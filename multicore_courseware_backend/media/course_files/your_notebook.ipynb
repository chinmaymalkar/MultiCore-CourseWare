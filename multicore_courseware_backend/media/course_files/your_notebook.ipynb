{
 "cells": [
  {
   "cell_type": "markdown",
   "metadata": {
    "id": "D7Plc5R4ucKU"
   },
   "source": [
    "## import libararies"
   ]
  },
  {
   "cell_type": "markdown",
   "metadata": {
    "id": "KkmHtr0By4Op"
   },
   "source": [
    "### NEED TO DO\n",
    " 1. Hyperparameter Tuning\n",
    " 2. Feature Importance - using 'rf_regressorfeature_importances_'\n",
    " 3. Visualization"
   ]
  },
  {
   "cell_type": "code",
   "execution_count": 15,
   "metadata": {
    "id": "CLfedQhAtPXC"
   },
   "outputs": [],
   "source": [
    "import numpy as np\n",
    "import pandas as pd\n",
    "import tensorflow as tf\n",
    "from tensorflow import keras\n",
    "from sklearn.model_selection import train_test_split\n",
    "from tensorflow.keras import layers"
   ]
  },
  {
   "cell_type": "markdown",
   "metadata": {
    "id": "L2XDhonNuiLI"
   },
   "source": [
    "##Load and prepare data"
   ]
  },
  {
   "cell_type": "code",
   "execution_count": 16,
   "metadata": {
    "id": "CdpJi67suslv"
   },
   "outputs": [],
   "source": [
    "ssr_data = pd.read_csv(\"ssr_data.csv\")\n",
    "\n",
    "# Convert the dictionary into DataFrame\n",
    "df = pd.DataFrame(ssr_data)"
   ]
  },
  {
   "cell_type": "code",
   "execution_count": 17,
   "metadata": {
    "id": "TAt5BFxivLUb"
   },
   "outputs": [],
   "source": [
    "df = df.head(10000)"
   ]
  },
  {
   "cell_type": "code",
   "execution_count": 18,
   "metadata": {
    "colab": {
     "base_uri": "https://localhost:8080/",
     "height": 461
    },
    "id": "gOFbE3eFAlRk",
    "outputId": "57ec7d10-92ac-4ce7-ed1b-1ab7e34da26c"
   },
   "outputs": [
    {
     "data": {
      "text/html": [
       "<div>\n",
       "<style scoped>\n",
       "    .dataframe tbody tr th:only-of-type {\n",
       "        vertical-align: middle;\n",
       "    }\n",
       "\n",
       "    .dataframe tbody tr th {\n",
       "        vertical-align: top;\n",
       "    }\n",
       "\n",
       "    .dataframe thead th {\n",
       "        text-align: right;\n",
       "    }\n",
       "</style>\n",
       "<table border=\"1\" class=\"dataframe\">\n",
       "  <thead>\n",
       "    <tr style=\"text-align: right;\">\n",
       "      <th></th>\n",
       "      <th>Vdc</th>\n",
       "      <th>Tem</th>\n",
       "      <th>wr</th>\n",
       "      <th>Va</th>\n",
       "      <th>Vb</th>\n",
       "      <th>Vc</th>\n",
       "      <th>Ia</th>\n",
       "      <th>Ib</th>\n",
       "      <th>Ic</th>\n",
       "      <th>P(MW)</th>\n",
       "      <th>Q(Mvar)</th>\n",
       "      <th>Va_ssr</th>\n",
       "      <th>Vb_ssr</th>\n",
       "      <th>Vc_ssr</th>\n",
       "      <th>Ia_ssr</th>\n",
       "      <th>Ib_ssr</th>\n",
       "      <th>Ic_ssr</th>\n",
       "    </tr>\n",
       "  </thead>\n",
       "  <tbody>\n",
       "    <tr>\n",
       "      <th>0</th>\n",
       "      <td>1150.000000</td>\n",
       "      <td>0.000000e+00</td>\n",
       "      <td>1.200000</td>\n",
       "      <td>0.000124</td>\n",
       "      <td>-0.000126</td>\n",
       "      <td>0.000002</td>\n",
       "      <td>-0.000260</td>\n",
       "      <td>-0.000259</td>\n",
       "      <td>0.000518</td>\n",
       "      <td>0.000000</td>\n",
       "      <td>0.000000</td>\n",
       "      <td>1075.041387</td>\n",
       "      <td>592.453390</td>\n",
       "      <td>482.587997</td>\n",
       "      <td>1098.891838</td>\n",
       "      <td>49.195441</td>\n",
       "      <td>1148.087278</td>\n",
       "    </tr>\n",
       "    <tr>\n",
       "      <th>1</th>\n",
       "      <td>1150.000000</td>\n",
       "      <td>0.000000e+00</td>\n",
       "      <td>1.200000</td>\n",
       "      <td>-0.004193</td>\n",
       "      <td>-0.004729</td>\n",
       "      <td>0.008922</td>\n",
       "      <td>-0.010945</td>\n",
       "      <td>-0.011664</td>\n",
       "      <td>0.022608</td>\n",
       "      <td>-84.423289</td>\n",
       "      <td>-62.786637</td>\n",
       "      <td>1075.577984</td>\n",
       "      <td>592.006626</td>\n",
       "      <td>483.690890</td>\n",
       "      <td>1093.460576</td>\n",
       "      <td>37.557874</td>\n",
       "      <td>1080.618548</td>\n",
       "    </tr>\n",
       "    <tr>\n",
       "      <th>2</th>\n",
       "      <td>1150.000001</td>\n",
       "      <td>-1.610000e-11</td>\n",
       "      <td>1.200054</td>\n",
       "      <td>-0.009945</td>\n",
       "      <td>-0.011039</td>\n",
       "      <td>0.020984</td>\n",
       "      <td>-0.021335</td>\n",
       "      <td>-0.023251</td>\n",
       "      <td>0.044586</td>\n",
       "      <td>-84.423289</td>\n",
       "      <td>-62.786637</td>\n",
       "      <td>1076.792216</td>\n",
       "      <td>594.959407</td>\n",
       "      <td>482.442549</td>\n",
       "      <td>1083.913864</td>\n",
       "      <td>151.144782</td>\n",
       "      <td>1119.426185</td>\n",
       "    </tr>\n",
       "    <tr>\n",
       "      <th>3</th>\n",
       "      <td>1150.000222</td>\n",
       "      <td>4.020000e-07</td>\n",
       "      <td>1.200080</td>\n",
       "      <td>-0.020186</td>\n",
       "      <td>-0.021877</td>\n",
       "      <td>0.042063</td>\n",
       "      <td>-0.034569</td>\n",
       "      <td>-0.038877</td>\n",
       "      <td>0.073447</td>\n",
       "      <td>-84.423289</td>\n",
       "      <td>-62.786637</td>\n",
       "      <td>1079.070323</td>\n",
       "      <td>598.587611</td>\n",
       "      <td>481.802231</td>\n",
       "      <td>1067.930438</td>\n",
       "      <td>142.552040</td>\n",
       "      <td>1114.761706</td>\n",
       "    </tr>\n",
       "    <tr>\n",
       "      <th>4</th>\n",
       "      <td>1149.998881</td>\n",
       "      <td>3.050000e-06</td>\n",
       "      <td>1.200107</td>\n",
       "      <td>-0.034121</td>\n",
       "      <td>-0.036223</td>\n",
       "      <td>0.070343</td>\n",
       "      <td>-0.046921</td>\n",
       "      <td>-0.054579</td>\n",
       "      <td>0.101500</td>\n",
       "      <td>-84.423289</td>\n",
       "      <td>-62.786637</td>\n",
       "      <td>1082.309390</td>\n",
       "      <td>602.121796</td>\n",
       "      <td>482.965761</td>\n",
       "      <td>1043.137930</td>\n",
       "      <td>238.107821</td>\n",
       "      <td>1068.062591</td>\n",
       "    </tr>\n",
       "    <tr>\n",
       "      <th>...</th>\n",
       "      <td>...</td>\n",
       "      <td>...</td>\n",
       "      <td>...</td>\n",
       "      <td>...</td>\n",
       "      <td>...</td>\n",
       "      <td>...</td>\n",
       "      <td>...</td>\n",
       "      <td>...</td>\n",
       "      <td>...</td>\n",
       "      <td>...</td>\n",
       "      <td>...</td>\n",
       "      <td>...</td>\n",
       "      <td>...</td>\n",
       "      <td>...</td>\n",
       "      <td>...</td>\n",
       "      <td>...</td>\n",
       "      <td>...</td>\n",
       "    </tr>\n",
       "    <tr>\n",
       "      <th>9995</th>\n",
       "      <td>1150.315963</td>\n",
       "      <td>-5.779545e-01</td>\n",
       "      <td>1.191448</td>\n",
       "      <td>-0.108711</td>\n",
       "      <td>-0.769009</td>\n",
       "      <td>0.877720</td>\n",
       "      <td>0.182651</td>\n",
       "      <td>0.562984</td>\n",
       "      <td>-0.745635</td>\n",
       "      <td>73.444030</td>\n",
       "      <td>9.303706</td>\n",
       "      <td>1.591739</td>\n",
       "      <td>8.028980</td>\n",
       "      <td>9.603898</td>\n",
       "      <td>13.733010</td>\n",
       "      <td>6.003655</td>\n",
       "      <td>7.729897</td>\n",
       "    </tr>\n",
       "    <tr>\n",
       "      <th>9996</th>\n",
       "      <td>1150.316072</td>\n",
       "      <td>-5.779707e-01</td>\n",
       "      <td>1.191454</td>\n",
       "      <td>-0.090746</td>\n",
       "      <td>-0.779610</td>\n",
       "      <td>0.870356</td>\n",
       "      <td>0.168358</td>\n",
       "      <td>0.573030</td>\n",
       "      <td>-0.741388</td>\n",
       "      <td>73.446016</td>\n",
       "      <td>9.302430</td>\n",
       "      <td>1.578650</td>\n",
       "      <td>8.027069</td>\n",
       "      <td>9.590349</td>\n",
       "      <td>13.732486</td>\n",
       "      <td>6.002964</td>\n",
       "      <td>7.730064</td>\n",
       "    </tr>\n",
       "    <tr>\n",
       "      <th>9997</th>\n",
       "      <td>1150.316181</td>\n",
       "      <td>-5.779870e-01</td>\n",
       "      <td>1.191459</td>\n",
       "      <td>-0.072750</td>\n",
       "      <td>-0.789932</td>\n",
       "      <td>0.862682</td>\n",
       "      <td>0.154004</td>\n",
       "      <td>0.582872</td>\n",
       "      <td>-0.736876</td>\n",
       "      <td>73.448006</td>\n",
       "      <td>9.301158</td>\n",
       "      <td>1.574978</td>\n",
       "      <td>8.011693</td>\n",
       "      <td>9.571979</td>\n",
       "      <td>13.730636</td>\n",
       "      <td>6.002581</td>\n",
       "      <td>7.728620</td>\n",
       "    </tr>\n",
       "    <tr>\n",
       "      <th>9998</th>\n",
       "      <td>1150.316289</td>\n",
       "      <td>-5.780033e-01</td>\n",
       "      <td>1.191465</td>\n",
       "      <td>-0.054728</td>\n",
       "      <td>-0.799973</td>\n",
       "      <td>0.854701</td>\n",
       "      <td>0.139593</td>\n",
       "      <td>0.592507</td>\n",
       "      <td>-0.732101</td>\n",
       "      <td>73.449999</td>\n",
       "      <td>9.299890</td>\n",
       "      <td>1.576829</td>\n",
       "      <td>7.988061</td>\n",
       "      <td>9.550125</td>\n",
       "      <td>13.730272</td>\n",
       "      <td>6.001926</td>\n",
       "      <td>7.728919</td>\n",
       "    </tr>\n",
       "    <tr>\n",
       "      <th>9999</th>\n",
       "      <td>1150.316398</td>\n",
       "      <td>-5.780197e-01</td>\n",
       "      <td>1.191470</td>\n",
       "      <td>-0.036687</td>\n",
       "      <td>-0.809729</td>\n",
       "      <td>0.846416</td>\n",
       "      <td>0.125132</td>\n",
       "      <td>0.601932</td>\n",
       "      <td>-0.727064</td>\n",
       "      <td>73.451995</td>\n",
       "      <td>9.298626</td>\n",
       "      <td>1.561780</td>\n",
       "      <td>7.998051</td>\n",
       "      <td>9.546733</td>\n",
       "      <td>13.729010</td>\n",
       "      <td>6.000125</td>\n",
       "      <td>7.729459</td>\n",
       "    </tr>\n",
       "  </tbody>\n",
       "</table>\n",
       "<p>10000 rows × 17 columns</p>\n",
       "</div>"
      ],
      "text/plain": [
       "              Vdc           Tem        wr        Va        Vb        Vc  \\\n",
       "0     1150.000000  0.000000e+00  1.200000  0.000124 -0.000126  0.000002   \n",
       "1     1150.000000  0.000000e+00  1.200000 -0.004193 -0.004729  0.008922   \n",
       "2     1150.000001 -1.610000e-11  1.200054 -0.009945 -0.011039  0.020984   \n",
       "3     1150.000222  4.020000e-07  1.200080 -0.020186 -0.021877  0.042063   \n",
       "4     1149.998881  3.050000e-06  1.200107 -0.034121 -0.036223  0.070343   \n",
       "...           ...           ...       ...       ...       ...       ...   \n",
       "9995  1150.315963 -5.779545e-01  1.191448 -0.108711 -0.769009  0.877720   \n",
       "9996  1150.316072 -5.779707e-01  1.191454 -0.090746 -0.779610  0.870356   \n",
       "9997  1150.316181 -5.779870e-01  1.191459 -0.072750 -0.789932  0.862682   \n",
       "9998  1150.316289 -5.780033e-01  1.191465 -0.054728 -0.799973  0.854701   \n",
       "9999  1150.316398 -5.780197e-01  1.191470 -0.036687 -0.809729  0.846416   \n",
       "\n",
       "            Ia        Ib        Ic      P(MW)    Q(Mvar)       Va_ssr  \\\n",
       "0    -0.000260 -0.000259  0.000518   0.000000   0.000000  1075.041387   \n",
       "1    -0.010945 -0.011664  0.022608 -84.423289 -62.786637  1075.577984   \n",
       "2    -0.021335 -0.023251  0.044586 -84.423289 -62.786637  1076.792216   \n",
       "3    -0.034569 -0.038877  0.073447 -84.423289 -62.786637  1079.070323   \n",
       "4    -0.046921 -0.054579  0.101500 -84.423289 -62.786637  1082.309390   \n",
       "...        ...       ...       ...        ...        ...          ...   \n",
       "9995  0.182651  0.562984 -0.745635  73.444030   9.303706     1.591739   \n",
       "9996  0.168358  0.573030 -0.741388  73.446016   9.302430     1.578650   \n",
       "9997  0.154004  0.582872 -0.736876  73.448006   9.301158     1.574978   \n",
       "9998  0.139593  0.592507 -0.732101  73.449999   9.299890     1.576829   \n",
       "9999  0.125132  0.601932 -0.727064  73.451995   9.298626     1.561780   \n",
       "\n",
       "          Vb_ssr      Vc_ssr       Ia_ssr      Ib_ssr       Ic_ssr  \n",
       "0     592.453390  482.587997  1098.891838   49.195441  1148.087278  \n",
       "1     592.006626  483.690890  1093.460576   37.557874  1080.618548  \n",
       "2     594.959407  482.442549  1083.913864  151.144782  1119.426185  \n",
       "3     598.587611  481.802231  1067.930438  142.552040  1114.761706  \n",
       "4     602.121796  482.965761  1043.137930  238.107821  1068.062591  \n",
       "...          ...         ...          ...         ...          ...  \n",
       "9995    8.028980    9.603898    13.733010    6.003655     7.729897  \n",
       "9996    8.027069    9.590349    13.732486    6.002964     7.730064  \n",
       "9997    8.011693    9.571979    13.730636    6.002581     7.728620  \n",
       "9998    7.988061    9.550125    13.730272    6.001926     7.728919  \n",
       "9999    7.998051    9.546733    13.729010    6.000125     7.729459  \n",
       "\n",
       "[10000 rows x 17 columns]"
      ]
     },
     "execution_count": 18,
     "metadata": {},
     "output_type": "execute_result"
    }
   ],
   "source": [
    "df"
   ]
  },
  {
   "cell_type": "code",
   "execution_count": 19,
   "metadata": {
    "colab": {
     "base_uri": "https://localhost:8080/"
    },
    "id": "vxFm_d0JvxX3",
    "outputId": "6cefe615-7348-46dc-da1e-8b37635835bd"
   },
   "outputs": [
    {
     "data": {
      "text/plain": [
       "Vdc        float64\n",
       "Tem        float64\n",
       "wr         float64\n",
       "Va         float64\n",
       "Vb         float64\n",
       "Vc         float64\n",
       "Ia         float64\n",
       "Ib         float64\n",
       "Ic         float64\n",
       "P(MW)      float64\n",
       "Q(Mvar)    float64\n",
       "Va_ssr     float64\n",
       "Vb_ssr     float64\n",
       "Vc_ssr     float64\n",
       "Ia_ssr     float64\n",
       "Ib_ssr     float64\n",
       "Ic_ssr     float64\n",
       "dtype: object"
      ]
     },
     "execution_count": 19,
     "metadata": {},
     "output_type": "execute_result"
    }
   ],
   "source": [
    "df.dtypes"
   ]
  },
  {
   "cell_type": "code",
   "execution_count": 20,
   "metadata": {
    "colab": {
     "base_uri": "https://localhost:8080/"
    },
    "id": "ZOu98AnxEV7p",
    "outputId": "2e3419b1-6d20-40bc-ead7-61f7051409b5"
   },
   "outputs": [
    {
     "data": {
      "text/plain": [
       "Vdc        0\n",
       "Tem        0\n",
       "wr         0\n",
       "Va         0\n",
       "Vb         0\n",
       "Vc         0\n",
       "Ia         0\n",
       "Ib         0\n",
       "Ic         0\n",
       "P(MW)      0\n",
       "Q(Mvar)    0\n",
       "Va_ssr     0\n",
       "Vb_ssr     0\n",
       "Vc_ssr     0\n",
       "Ia_ssr     0\n",
       "Ib_ssr     0\n",
       "Ic_ssr     0\n",
       "dtype: int64"
      ]
     },
     "execution_count": 20,
     "metadata": {},
     "output_type": "execute_result"
    }
   ],
   "source": [
    "df.isnull().sum()"
   ]
  },
  {
   "cell_type": "code",
   "execution_count": 21,
   "metadata": {
    "id": "AwJyJK_wETgy"
   },
   "outputs": [],
   "source": [
    "df = df.dropna()"
   ]
  },
  {
   "cell_type": "code",
   "execution_count": 22,
   "metadata": {
    "colab": {
     "base_uri": "https://localhost:8080/"
    },
    "id": "wkdgulLgvvbl",
    "outputId": "d15584d4-5bed-4f19-b420-7f9e8a996263"
   },
   "outputs": [
    {
     "data": {
      "text/plain": [
       "Vdc        0\n",
       "Tem        0\n",
       "wr         0\n",
       "Va         0\n",
       "Vb         0\n",
       "Vc         0\n",
       "Ia         0\n",
       "Ib         0\n",
       "Ic         0\n",
       "P(MW)      0\n",
       "Q(Mvar)    0\n",
       "Va_ssr     0\n",
       "Vb_ssr     0\n",
       "Vc_ssr     0\n",
       "Ia_ssr     0\n",
       "Ib_ssr     0\n",
       "Ic_ssr     0\n",
       "dtype: int64"
      ]
     },
     "execution_count": 22,
     "metadata": {},
     "output_type": "execute_result"
    }
   ],
   "source": [
    "df.isnull().sum()"
   ]
  },
  {
   "cell_type": "code",
   "execution_count": 23,
   "metadata": {
    "id": "iCbdHhl9v6n9"
   },
   "outputs": [],
   "source": [
    "# Remove three columns as index base\n",
    "df.drop(df.columns[[12, 13, 14, 15, 16]], axis=1, inplace=True)"
   ]
  },
  {
   "cell_type": "code",
   "execution_count": 24,
   "metadata": {
    "colab": {
     "base_uri": "https://localhost:8080/",
     "height": 244
    },
    "id": "wIAbTMrSxDQ4",
    "outputId": "01895d73-6f9f-416d-a1c2-6518b81bbe22"
   },
   "outputs": [
    {
     "data": {
      "text/html": [
       "<div>\n",
       "<style scoped>\n",
       "    .dataframe tbody tr th:only-of-type {\n",
       "        vertical-align: middle;\n",
       "    }\n",
       "\n",
       "    .dataframe tbody tr th {\n",
       "        vertical-align: top;\n",
       "    }\n",
       "\n",
       "    .dataframe thead th {\n",
       "        text-align: right;\n",
       "    }\n",
       "</style>\n",
       "<table border=\"1\" class=\"dataframe\">\n",
       "  <thead>\n",
       "    <tr style=\"text-align: right;\">\n",
       "      <th></th>\n",
       "      <th>Vdc</th>\n",
       "      <th>Tem</th>\n",
       "      <th>wr</th>\n",
       "      <th>Va</th>\n",
       "      <th>Vb</th>\n",
       "      <th>Vc</th>\n",
       "      <th>Ia</th>\n",
       "      <th>Ib</th>\n",
       "      <th>Ic</th>\n",
       "      <th>P(MW)</th>\n",
       "      <th>Q(Mvar)</th>\n",
       "      <th>Va_ssr</th>\n",
       "    </tr>\n",
       "  </thead>\n",
       "  <tbody>\n",
       "    <tr>\n",
       "      <th>0</th>\n",
       "      <td>1150.000000</td>\n",
       "      <td>0.000000e+00</td>\n",
       "      <td>1.200000</td>\n",
       "      <td>0.000124</td>\n",
       "      <td>-0.000126</td>\n",
       "      <td>0.000002</td>\n",
       "      <td>-0.000260</td>\n",
       "      <td>-0.000259</td>\n",
       "      <td>0.000518</td>\n",
       "      <td>0.000000</td>\n",
       "      <td>0.000000</td>\n",
       "      <td>1075.041387</td>\n",
       "    </tr>\n",
       "    <tr>\n",
       "      <th>1</th>\n",
       "      <td>1150.000000</td>\n",
       "      <td>0.000000e+00</td>\n",
       "      <td>1.200000</td>\n",
       "      <td>-0.004193</td>\n",
       "      <td>-0.004729</td>\n",
       "      <td>0.008922</td>\n",
       "      <td>-0.010945</td>\n",
       "      <td>-0.011664</td>\n",
       "      <td>0.022608</td>\n",
       "      <td>-84.423289</td>\n",
       "      <td>-62.786637</td>\n",
       "      <td>1075.577984</td>\n",
       "    </tr>\n",
       "    <tr>\n",
       "      <th>2</th>\n",
       "      <td>1150.000001</td>\n",
       "      <td>-1.610000e-11</td>\n",
       "      <td>1.200054</td>\n",
       "      <td>-0.009945</td>\n",
       "      <td>-0.011039</td>\n",
       "      <td>0.020984</td>\n",
       "      <td>-0.021335</td>\n",
       "      <td>-0.023251</td>\n",
       "      <td>0.044586</td>\n",
       "      <td>-84.423289</td>\n",
       "      <td>-62.786637</td>\n",
       "      <td>1076.792216</td>\n",
       "    </tr>\n",
       "    <tr>\n",
       "      <th>3</th>\n",
       "      <td>1150.000222</td>\n",
       "      <td>4.020000e-07</td>\n",
       "      <td>1.200080</td>\n",
       "      <td>-0.020186</td>\n",
       "      <td>-0.021877</td>\n",
       "      <td>0.042063</td>\n",
       "      <td>-0.034569</td>\n",
       "      <td>-0.038877</td>\n",
       "      <td>0.073447</td>\n",
       "      <td>-84.423289</td>\n",
       "      <td>-62.786637</td>\n",
       "      <td>1079.070323</td>\n",
       "    </tr>\n",
       "    <tr>\n",
       "      <th>4</th>\n",
       "      <td>1149.998881</td>\n",
       "      <td>3.050000e-06</td>\n",
       "      <td>1.200107</td>\n",
       "      <td>-0.034121</td>\n",
       "      <td>-0.036223</td>\n",
       "      <td>0.070343</td>\n",
       "      <td>-0.046921</td>\n",
       "      <td>-0.054579</td>\n",
       "      <td>0.101500</td>\n",
       "      <td>-84.423289</td>\n",
       "      <td>-62.786637</td>\n",
       "      <td>1082.309390</td>\n",
       "    </tr>\n",
       "  </tbody>\n",
       "</table>\n",
       "</div>"
      ],
      "text/plain": [
       "           Vdc           Tem        wr        Va        Vb        Vc  \\\n",
       "0  1150.000000  0.000000e+00  1.200000  0.000124 -0.000126  0.000002   \n",
       "1  1150.000000  0.000000e+00  1.200000 -0.004193 -0.004729  0.008922   \n",
       "2  1150.000001 -1.610000e-11  1.200054 -0.009945 -0.011039  0.020984   \n",
       "3  1150.000222  4.020000e-07  1.200080 -0.020186 -0.021877  0.042063   \n",
       "4  1149.998881  3.050000e-06  1.200107 -0.034121 -0.036223  0.070343   \n",
       "\n",
       "         Ia        Ib        Ic      P(MW)    Q(Mvar)       Va_ssr  \n",
       "0 -0.000260 -0.000259  0.000518   0.000000   0.000000  1075.041387  \n",
       "1 -0.010945 -0.011664  0.022608 -84.423289 -62.786637  1075.577984  \n",
       "2 -0.021335 -0.023251  0.044586 -84.423289 -62.786637  1076.792216  \n",
       "3 -0.034569 -0.038877  0.073447 -84.423289 -62.786637  1079.070323  \n",
       "4 -0.046921 -0.054579  0.101500 -84.423289 -62.786637  1082.309390  "
      ]
     },
     "execution_count": 24,
     "metadata": {},
     "output_type": "execute_result"
    }
   ],
   "source": [
    "df.head()"
   ]
  },
  {
   "cell_type": "code",
   "execution_count": 25,
   "metadata": {
    "id": "a9sCV7Y4tWU0"
   },
   "outputs": [],
   "source": [
    "\n",
    "# Assuming you have a DataFrame 'df' with features and target variable\n",
    "X = df.drop('Va_ssr', axis=1)\n",
    "y = df['Va_ssr']\n"
   ]
  },
  {
   "cell_type": "code",
   "execution_count": 26,
   "metadata": {
    "colab": {
     "base_uri": "https://localhost:8080/",
     "height": 244
    },
    "id": "YRSyA6hSxSpm",
    "outputId": "6d1e1ff3-212f-4250-a880-2dc39b569b3a"
   },
   "outputs": [
    {
     "data": {
      "text/html": [
       "<div>\n",
       "<style scoped>\n",
       "    .dataframe tbody tr th:only-of-type {\n",
       "        vertical-align: middle;\n",
       "    }\n",
       "\n",
       "    .dataframe tbody tr th {\n",
       "        vertical-align: top;\n",
       "    }\n",
       "\n",
       "    .dataframe thead th {\n",
       "        text-align: right;\n",
       "    }\n",
       "</style>\n",
       "<table border=\"1\" class=\"dataframe\">\n",
       "  <thead>\n",
       "    <tr style=\"text-align: right;\">\n",
       "      <th></th>\n",
       "      <th>Vdc</th>\n",
       "      <th>Tem</th>\n",
       "      <th>wr</th>\n",
       "      <th>Va</th>\n",
       "      <th>Vb</th>\n",
       "      <th>Vc</th>\n",
       "      <th>Ia</th>\n",
       "      <th>Ib</th>\n",
       "      <th>Ic</th>\n",
       "      <th>P(MW)</th>\n",
       "      <th>Q(Mvar)</th>\n",
       "    </tr>\n",
       "  </thead>\n",
       "  <tbody>\n",
       "    <tr>\n",
       "      <th>0</th>\n",
       "      <td>1150.000000</td>\n",
       "      <td>0.000000e+00</td>\n",
       "      <td>1.200000</td>\n",
       "      <td>0.000124</td>\n",
       "      <td>-0.000126</td>\n",
       "      <td>0.000002</td>\n",
       "      <td>-0.000260</td>\n",
       "      <td>-0.000259</td>\n",
       "      <td>0.000518</td>\n",
       "      <td>0.000000</td>\n",
       "      <td>0.000000</td>\n",
       "    </tr>\n",
       "    <tr>\n",
       "      <th>1</th>\n",
       "      <td>1150.000000</td>\n",
       "      <td>0.000000e+00</td>\n",
       "      <td>1.200000</td>\n",
       "      <td>-0.004193</td>\n",
       "      <td>-0.004729</td>\n",
       "      <td>0.008922</td>\n",
       "      <td>-0.010945</td>\n",
       "      <td>-0.011664</td>\n",
       "      <td>0.022608</td>\n",
       "      <td>-84.423289</td>\n",
       "      <td>-62.786637</td>\n",
       "    </tr>\n",
       "    <tr>\n",
       "      <th>2</th>\n",
       "      <td>1150.000001</td>\n",
       "      <td>-1.610000e-11</td>\n",
       "      <td>1.200054</td>\n",
       "      <td>-0.009945</td>\n",
       "      <td>-0.011039</td>\n",
       "      <td>0.020984</td>\n",
       "      <td>-0.021335</td>\n",
       "      <td>-0.023251</td>\n",
       "      <td>0.044586</td>\n",
       "      <td>-84.423289</td>\n",
       "      <td>-62.786637</td>\n",
       "    </tr>\n",
       "    <tr>\n",
       "      <th>3</th>\n",
       "      <td>1150.000222</td>\n",
       "      <td>4.020000e-07</td>\n",
       "      <td>1.200080</td>\n",
       "      <td>-0.020186</td>\n",
       "      <td>-0.021877</td>\n",
       "      <td>0.042063</td>\n",
       "      <td>-0.034569</td>\n",
       "      <td>-0.038877</td>\n",
       "      <td>0.073447</td>\n",
       "      <td>-84.423289</td>\n",
       "      <td>-62.786637</td>\n",
       "    </tr>\n",
       "    <tr>\n",
       "      <th>4</th>\n",
       "      <td>1149.998881</td>\n",
       "      <td>3.050000e-06</td>\n",
       "      <td>1.200107</td>\n",
       "      <td>-0.034121</td>\n",
       "      <td>-0.036223</td>\n",
       "      <td>0.070343</td>\n",
       "      <td>-0.046921</td>\n",
       "      <td>-0.054579</td>\n",
       "      <td>0.101500</td>\n",
       "      <td>-84.423289</td>\n",
       "      <td>-62.786637</td>\n",
       "    </tr>\n",
       "  </tbody>\n",
       "</table>\n",
       "</div>"
      ],
      "text/plain": [
       "           Vdc           Tem        wr        Va        Vb        Vc  \\\n",
       "0  1150.000000  0.000000e+00  1.200000  0.000124 -0.000126  0.000002   \n",
       "1  1150.000000  0.000000e+00  1.200000 -0.004193 -0.004729  0.008922   \n",
       "2  1150.000001 -1.610000e-11  1.200054 -0.009945 -0.011039  0.020984   \n",
       "3  1150.000222  4.020000e-07  1.200080 -0.020186 -0.021877  0.042063   \n",
       "4  1149.998881  3.050000e-06  1.200107 -0.034121 -0.036223  0.070343   \n",
       "\n",
       "         Ia        Ib        Ic      P(MW)    Q(Mvar)  \n",
       "0 -0.000260 -0.000259  0.000518   0.000000   0.000000  \n",
       "1 -0.010945 -0.011664  0.022608 -84.423289 -62.786637  \n",
       "2 -0.021335 -0.023251  0.044586 -84.423289 -62.786637  \n",
       "3 -0.034569 -0.038877  0.073447 -84.423289 -62.786637  \n",
       "4 -0.046921 -0.054579  0.101500 -84.423289 -62.786637  "
      ]
     },
     "execution_count": 26,
     "metadata": {},
     "output_type": "execute_result"
    }
   ],
   "source": [
    "X.head()"
   ]
  },
  {
   "cell_type": "code",
   "execution_count": 27,
   "metadata": {
    "colab": {
     "base_uri": "https://localhost:8080/"
    },
    "id": "sIFQ0lEFxc_i",
    "outputId": "34973937-b224-4cbc-9a28-28cd8dab2f00"
   },
   "outputs": [
    {
     "data": {
      "text/plain": [
       "0    1075.041387\n",
       "1    1075.577984\n",
       "2    1076.792216\n",
       "3    1079.070323\n",
       "4    1082.309390\n",
       "Name: Va_ssr, dtype: float64"
      ]
     },
     "execution_count": 27,
     "metadata": {},
     "output_type": "execute_result"
    }
   ],
   "source": [
    "y.head()"
   ]
  },
  {
   "cell_type": "markdown",
   "metadata": {
    "id": "v0RB59N2xx5G"
   },
   "source": [
    "## Split Data into Training and Testing Sets"
   ]
  },
  {
   "cell_type": "code",
   "execution_count": 28,
   "metadata": {
    "id": "RpUPbLeXxqPG"
   },
   "outputs": [],
   "source": [
    "X_train, X_test, y_train, y_test = train_test_split(X, y, test_size=0.2, random_state=42)"
   ]
  },
  {
   "cell_type": "markdown",
   "metadata": {
    "id": "KmFi7wkJx0zI"
   },
   "source": [
    "## Initialize the Regression model\n"
   ]
  },
  {
   "cell_type": "code",
   "execution_count": 29,
   "metadata": {
    "id": "3GJ2Q03ex0aS"
   },
   "outputs": [
    {
     "name": "stderr",
     "output_type": "stream",
     "text": [
      "2023-11-01 13:30:23.551620: I tensorflow/core/common_runtime/process_util.cc:146] Creating new thread pool with default inter op setting: 2. Tune using inter_op_parallelism_threads for best performance.\n"
     ]
    }
   ],
   "source": [
    "# Define the neural network architecture\n",
    "model = keras.Sequential([\n",
    "    layers.Dense(64, activation='relu', input_shape=(X_train.shape[1],)),\n",
    "    layers.Dense(32, activation='relu'),\n",
    "    layers.Dense(1)  # Assuming a regression task with one output node\n",
    "])\n",
    "\n",
    "# Compile the model\n",
    "model.compile(optimizer='adam', loss='mean_squared_error')\n"
   ]
  },
  {
   "cell_type": "markdown",
   "metadata": {
    "id": "yfJ0_6ML1pCB"
   },
   "source": [
    "## Train the model"
   ]
  },
  {
   "cell_type": "code",
   "execution_count": 30,
   "metadata": {
    "id": "oDBGqBr51rR9"
   },
   "outputs": [
    {
     "name": "stdout",
     "output_type": "stream",
     "text": [
      "Epoch 1/50\n",
      "200/200 [==============================] - 2s 7ms/step - loss: 566613.6250 - val_loss: 234810.0156\n",
      "Epoch 2/50\n",
      "200/200 [==============================] - 1s 5ms/step - loss: 513947.7188 - val_loss: 195361.7344\n",
      "Epoch 3/50\n",
      "200/200 [==============================] - 1s 5ms/step - loss: 484508.1250 - val_loss: 183422.2812\n",
      "Epoch 4/50\n",
      "200/200 [==============================] - 1s 6ms/step - loss: 478647.9688 - val_loss: 181961.1562\n",
      "Epoch 5/50\n",
      "200/200 [==============================] - 1s 6ms/step - loss: 478528.5938 - val_loss: 181563.1875\n",
      "Epoch 6/50\n",
      "200/200 [==============================] - 2s 8ms/step - loss: 476294.2500 - val_loss: 180322.0781\n",
      "Epoch 7/50\n",
      "200/200 [==============================] - 1s 5ms/step - loss: 476078.4375 - val_loss: 181283.5000\n",
      "Epoch 8/50\n",
      "200/200 [==============================] - 1s 4ms/step - loss: 475445.8750 - val_loss: 180120.0469\n",
      "Epoch 9/50\n",
      "200/200 [==============================] - 1s 5ms/step - loss: 474228.1562 - val_loss: 178461.7656\n",
      "Epoch 10/50\n",
      "200/200 [==============================] - 1s 4ms/step - loss: 474758.3125 - val_loss: 178892.7188\n",
      "Epoch 11/50\n",
      "200/200 [==============================] - 1s 4ms/step - loss: 472973.0000 - val_loss: 178979.4219\n",
      "Epoch 12/50\n",
      "200/200 [==============================] - 1s 4ms/step - loss: 472119.5938 - val_loss: 177633.4219\n",
      "Epoch 13/50\n",
      "200/200 [==============================] - 1s 4ms/step - loss: 471999.7500 - val_loss: 176318.5469\n",
      "Epoch 14/50\n",
      "200/200 [==============================] - 1s 4ms/step - loss: 473328.0938 - val_loss: 176857.9844\n",
      "Epoch 15/50\n",
      "200/200 [==============================] - 1s 4ms/step - loss: 470305.3750 - val_loss: 176158.9062\n",
      "Epoch 16/50\n",
      "200/200 [==============================] - 1s 4ms/step - loss: 470598.4062 - val_loss: 176533.6250\n",
      "Epoch 17/50\n",
      "200/200 [==============================] - 1s 5ms/step - loss: 469536.6250 - val_loss: 175632.5625\n",
      "Epoch 18/50\n",
      "200/200 [==============================] - 1s 6ms/step - loss: 469155.7500 - val_loss: 177522.1250\n",
      "Epoch 19/50\n",
      "200/200 [==============================] - 1s 7ms/step - loss: 469462.5312 - val_loss: 174507.4375\n",
      "Epoch 20/50\n",
      "200/200 [==============================] - 1s 6ms/step - loss: 466576.2812 - val_loss: 176927.2344\n",
      "Epoch 21/50\n",
      "200/200 [==============================] - 1s 5ms/step - loss: 468742.3125 - val_loss: 173684.4531\n",
      "Epoch 22/50\n",
      "200/200 [==============================] - 1s 7ms/step - loss: 467427.1875 - val_loss: 188201.9531\n",
      "Epoch 23/50\n",
      "200/200 [==============================] - 1s 5ms/step - loss: 468480.6875 - val_loss: 177012.2656\n",
      "Epoch 24/50\n",
      "200/200 [==============================] - 1s 5ms/step - loss: 467684.1562 - val_loss: 173947.3438\n",
      "Epoch 25/50\n",
      "200/200 [==============================] - 1s 5ms/step - loss: 467705.5938 - val_loss: 182757.4531\n",
      "Epoch 26/50\n",
      "200/200 [==============================] - 1s 6ms/step - loss: 465608.5312 - val_loss: 172771.7188\n",
      "Epoch 27/50\n",
      "200/200 [==============================] - 1s 6ms/step - loss: 467559.5938 - val_loss: 174727.0000\n",
      "Epoch 28/50\n",
      "200/200 [==============================] - 1s 5ms/step - loss: 466853.5625 - val_loss: 172372.0781\n",
      "Epoch 29/50\n",
      "200/200 [==============================] - 1s 4ms/step - loss: 465770.1562 - val_loss: 173868.8594\n",
      "Epoch 30/50\n",
      "200/200 [==============================] - 1s 4ms/step - loss: 465761.0000 - val_loss: 176500.1562\n",
      "Epoch 31/50\n",
      "200/200 [==============================] - 1s 5ms/step - loss: 465674.5312 - val_loss: 201903.5938\n",
      "Epoch 32/50\n",
      "200/200 [==============================] - 1s 6ms/step - loss: 466478.8438 - val_loss: 179005.8125\n",
      "Epoch 33/50\n",
      "200/200 [==============================] - 1s 6ms/step - loss: 464278.7500 - val_loss: 172543.4531\n",
      "Epoch 34/50\n",
      "200/200 [==============================] - 1s 6ms/step - loss: 465705.8750 - val_loss: 171525.3594\n",
      "Epoch 35/50\n",
      "200/200 [==============================] - 1s 6ms/step - loss: 463948.5625 - val_loss: 176963.0469\n",
      "Epoch 36/50\n",
      "200/200 [==============================] - 1s 5ms/step - loss: 464586.5625 - val_loss: 171061.0938\n",
      "Epoch 37/50\n",
      "200/200 [==============================] - 1s 5ms/step - loss: 466257.0312 - val_loss: 179426.4219\n",
      "Epoch 38/50\n",
      "200/200 [==============================] - 1s 5ms/step - loss: 464023.7500 - val_loss: 171054.9531\n",
      "Epoch 39/50\n",
      "200/200 [==============================] - 1s 5ms/step - loss: 463753.0000 - val_loss: 179671.2344\n",
      "Epoch 40/50\n",
      "200/200 [==============================] - 1s 6ms/step - loss: 466284.2500 - val_loss: 173903.7812\n",
      "Epoch 41/50\n",
      "200/200 [==============================] - 1s 5ms/step - loss: 464588.0938 - val_loss: 170616.2344\n",
      "Epoch 42/50\n",
      "200/200 [==============================] - 1s 5ms/step - loss: 464280.6875 - val_loss: 171041.7188\n",
      "Epoch 43/50\n",
      "200/200 [==============================] - 1s 5ms/step - loss: 464858.0938 - val_loss: 171917.6250\n",
      "Epoch 44/50\n",
      "200/200 [==============================] - 1s 6ms/step - loss: 464981.2500 - val_loss: 172244.6250\n",
      "Epoch 45/50\n",
      "200/200 [==============================] - 1s 5ms/step - loss: 462968.1250 - val_loss: 174201.0156\n",
      "Epoch 46/50\n",
      "200/200 [==============================] - 1s 5ms/step - loss: 463263.1250 - val_loss: 170336.6562\n",
      "Epoch 47/50\n",
      "200/200 [==============================] - 1s 5ms/step - loss: 463608.5312 - val_loss: 169502.0469\n",
      "Epoch 48/50\n",
      "200/200 [==============================] - 1s 4ms/step - loss: 464193.2812 - val_loss: 170891.6562\n",
      "Epoch 49/50\n",
      "200/200 [==============================] - 1s 5ms/step - loss: 463532.7500 - val_loss: 170010.7969\n",
      "Epoch 50/50\n",
      "200/200 [==============================] - 1s 5ms/step - loss: 463582.7188 - val_loss: 170188.9375\n"
     ]
    },
    {
     "data": {
      "text/plain": [
       "<keras.callbacks.History at 0x7f4f61c8e050>"
      ]
     },
     "execution_count": 30,
     "metadata": {},
     "output_type": "execute_result"
    }
   ],
   "source": [
    "\n",
    "# Train the model with backpropagation\n",
    "model.fit(X_train, y_train, epochs=50, batch_size=32, validation_split=0.2)"
   ]
  },
  {
   "cell_type": "markdown",
   "metadata": {
    "id": "H106H6YXyWMd"
   },
   "source": [
    "## Make Prediction"
   ]
  },
  {
   "cell_type": "code",
   "execution_count": 31,
   "metadata": {
    "id": "UwgAnQ6oyY1K"
   },
   "outputs": [],
   "source": [
    "\n",
    "# # Make predictions on the test set\n",
    "# y_pred = model.predict(X_test)\n"
   ]
  },
  {
   "cell_type": "markdown",
   "metadata": {
    "id": "ZMNnYKReydy6"
   },
   "source": [
    "## Evaluate the Model"
   ]
  },
  {
   "cell_type": "code",
   "execution_count": 33,
   "metadata": {
    "id": "42aLd3hgycEK"
   },
   "outputs": [
    {
     "name": "stdout",
     "output_type": "stream",
     "text": [
      "63/63 [==============================] - 0s 3ms/step - loss: 316907.9688\n",
      "316907.96875\n"
     ]
    }
   ],
   "source": [
    "## Evaluate the model on the test data\n",
    "results = model.evaluate(X_test, y_test)\n",
    "\n",
    "# Print the test loss and accuracy (or other relevant metrics)\n",
    "# print(\"Test Loss:\", results[0])\n",
    "# print(\"Test Accuracy:\", results[1])\n",
    "print(results)"
   ]
  },
  {
   "cell_type": "code",
   "execution_count": null,
   "metadata": {
    "id": "ZJIXWNJgzWP7"
   },
   "outputs": [],
   "source": [
    "import math\n",
    "\n",
    "rmse = math.sqrt(mse)\n",
    "print(\"Root Mean Squared Error (RMSE):\", rmse)\n"
   ]
  },
  {
   "cell_type": "code",
   "execution_count": null,
   "metadata": {
    "id": "7Q6Wsc6aBFKX"
   },
   "outputs": [],
   "source": [
    "# input_data = (1154.950194,0.383471064,1.067522947,-0.084752863,-0.385761442,0.470514305,1.743972979,-1.994108981,0.250136002,203.5984165,-8.976845521)\n",
    "# # 0.5110339154585591\n",
    "\n",
    "# ## converting input_data to numpy array\n",
    "# input_data_as_numpy_array = np.asarray(input_data)\n",
    "\n",
    "# ## reshape np array as we are predicting for one instance\n",
    "# input_data_reshaped = input_data_as_numpy_array.reshape(1,-1)\n",
    "\n",
    "\n",
    "# y_pred = linear_reg.predict(input_data_reshaped)"
   ]
  },
  {
   "cell_type": "code",
   "execution_count": null,
   "metadata": {
    "id": "ceqzG87lBFKX"
   },
   "outputs": [],
   "source": [
    "# print(y_pred)"
   ]
  },
  {
   "cell_type": "code",
   "execution_count": null,
   "metadata": {
    "id": "t9aA2BEBBFKY"
   },
   "outputs": [],
   "source": []
  }
 ],
 "metadata": {
  "colab": {
   "provenance": []
  },
  "kernelspec": {
   "display_name": "Python 3 (ipykernel)",
   "language": "python",
   "name": "python3"
  },
  "language_info": {
   "codemirror_mode": {
    "name": "ipython",
    "version": 3
   },
   "file_extension": ".py",
   "mimetype": "text/x-python",
   "name": "python",
   "nbconvert_exporter": "python",
   "pygments_lexer": "ipython3",
   "version": "3.11.4"
  }
 },
 "nbformat": 4,
 "nbformat_minor": 1
}
